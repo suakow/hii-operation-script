{
 "cells": [
  {
   "cell_type": "code",
   "execution_count": 1,
   "id": "762f8f18-4e47-489c-b1c0-65c734694605",
   "metadata": {},
   "outputs": [
    {
     "name": "stdout",
     "output_type": "stream",
     "text": [
      "project_path: /home/studio-lab-user/sagemaker-studiolab-notebooks/workspace/hii_operation/\n",
      "\n"
     ]
    }
   ],
   "source": [
    "import yaml\n",
    "\n",
    "# dict object\n",
    "config = {\n",
    "    'project_path' : '/home/studio-lab-user/sagemaker-studiolab-notebooks/workspace/hii_operation/'\n",
    "}\n",
    "\n",
    "# Convert Python dictionary into a YAML document\n",
    "print(yaml.dump(config))"
   ]
  },
  {
   "cell_type": "code",
   "execution_count": 2,
   "id": "298d0197-2654-4bee-9a1f-3220d6bcd3bb",
   "metadata": {},
   "outputs": [
    {
     "data": {
      "text/plain": [
       "91"
      ]
     },
     "execution_count": 2,
     "metadata": {},
     "output_type": "execute_result"
    }
   ],
   "source": [
    "open( '/home/studio-lab-user/sagemaker-studiolab-notebooks/workspace/hii_operation/config.yml', 'w').write(yaml.dump(config))"
   ]
  },
  {
   "cell_type": "code",
   "execution_count": 4,
   "id": "2b7e3914-e1db-4fae-8a91-c97a2b8e08c8",
   "metadata": {},
   "outputs": [],
   "source": [
    "from yaml.loader import SafeLoader"
   ]
  },
  {
   "cell_type": "code",
   "execution_count": null,
   "id": "bc474e0c-62c6-4004-9535-53193992c196",
   "metadata": {},
   "outputs": [],
   "source": []
  },
  {
   "cell_type": "code",
   "execution_count": 6,
   "id": "f52b7500-5cb8-46c6-916d-733d4cf22a0f",
   "metadata": {},
   "outputs": [
    {
     "data": {
      "text/plain": [
       "{'project_path': '/home/studio-lab-user/sagemaker-studiolab-notebooks/workspace/hii_operation/'}"
      ]
     },
     "execution_count": 6,
     "metadata": {},
     "output_type": "execute_result"
    }
   ],
   "source": [
    "yaml.load(\n",
    "    open('/home/studio-lab-user/sagemaker-studiolab-notebooks/workspace/hii_operation/config.yml', 'r').read(),\n",
    "    Loader=SafeLoader\n",
    ")"
   ]
  },
  {
   "cell_type": "code",
   "execution_count": null,
   "id": "7f566323-b0c4-46a3-b3ba-79932bb6cdfd",
   "metadata": {},
   "outputs": [],
   "source": []
  },
  {
   "cell_type": "code",
   "execution_count": null,
   "id": "42d162a9-b097-4625-a388-d3ea68b163a1",
   "metadata": {
    "slideshow": {
     "slide_type": "notes"
    },
    "tags": [
     "test"
    ]
   },
   "outputs": [],
   "source": []
  }
 ],
 "metadata": {
  "kernelspec": {
   "display_name": "hii_operation:Python",
   "language": "python",
   "name": "conda-env-hii_operation-py"
  },
  "language_info": {
   "codemirror_mode": {
    "name": "ipython",
    "version": 3
   },
   "file_extension": ".py",
   "mimetype": "text/x-python",
   "name": "python",
   "nbconvert_exporter": "python",
   "pygments_lexer": "ipython3",
   "version": "3.10.5"
  }
 },
 "nbformat": 4,
 "nbformat_minor": 5
}
